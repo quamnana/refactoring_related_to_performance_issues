{
 "cells": [
  {
   "cell_type": "code",
   "execution_count": 1,
   "metadata": {},
   "outputs": [],
   "source": [
    "import pandas as pd\n",
    "import matplotlib.pyplot as plt\n",
    "\n",
    "csv_file_path = (\n",
    "    \"../../data/refactoring_reasons.csv\"  # Replace with the path to your CSV file\n",
    ")\n",
    "\n",
    "\n",
    "# Function to count unique occurrences and plot the results\n",
    "def unique_counter(csv_file_path, column_name):\n",
    "    # Read the CSV file into a DataFrame\n",
    "    df = pd.read_csv(csv_file_path)\n",
    "    \n",
    "    # Count the occurrences of each unique type in the specified column\n",
    "    counts = df[column_name].value_counts()\n",
    "    return counts"
   ]
  },
  {
   "cell_type": "code",
   "execution_count": 2,
   "metadata": {},
   "outputs": [
    {
     "name": "stdout",
     "output_type": "stream",
     "text": [
      "Add Method Annotation    30\n",
      "Change Attribute Type    30\n",
      "Change Return Type       30\n",
      "Change Variable Type     30\n",
      "Add Parameter            30\n",
      "Change Parameter Type    30\n",
      "Extract Method           30\n",
      "Move Class               30\n",
      "Rename Method            30\n",
      "Rename Variable          30\n",
      "Name: type, dtype: int64\n"
     ]
    }
   ],
   "source": [
    "\n",
    "# Get the counts of each unique type and plot the results\n",
    "type_counts = unique_counter(csv_file_path, \"type\")\n",
    "type_counts.to_csv(\"../../data/rq5/refactoring_type_counts.csv\")\n",
    "\n",
    "# Print the results\n",
    "print(type_counts)"
   ]
  },
  {
   "cell_type": "code",
   "execution_count": 3,
   "metadata": {},
   "outputs": [
    {
     "name": "stdout",
     "output_type": "stream",
     "text": [
      "Unrelated to Performance Improvement       134\n",
      "Reliability and Stability Improvement       91\n",
      "Execution Time Improvement                  31\n",
      "Memory Optimization                         15\n",
      "Scalability Improvement                      9\n",
      "I/O Optimization                             6\n",
      "Concurrency and Parallelism Enhancement      5\n",
      "Caching Optimization                         4\n",
      "Network Performance Optimization             3\n",
      "CPU Usage Optimization                       1\n",
      "Startup Time Reduction                       1\n",
      "Name: category, dtype: int64\n"
     ]
    }
   ],
   "source": [
    "\n",
    "# Get the counts of each unique type and plot the results\n",
    "category_counts = unique_counter(csv_file_path, \"category\")\n",
    "category_counts.to_csv(\"../../data/rq5/performance_category_counts.csv\")\n",
    "\n",
    "# Print the results\n",
    "print(category_counts)"
   ]
  },
  {
   "cell_type": "code",
   "execution_count": 4,
   "metadata": {},
   "outputs": [
    {
     "name": "stdout",
     "output_type": "stream",
     "text": [
      "Maintenance-related    188\n",
      "Fix-related             93\n",
      "Test-related            19\n",
      "Name: use, dtype: int64\n"
     ]
    }
   ],
   "source": [
    "# Get the counts of each unique type and plot the results\n",
    "use_counts = unique_counter(csv_file_path, \"use\")\n",
    "\n",
    "use_counts.to_csv(\"../../data/rq5/refactoring_use_counts.csv\")\n",
    "\n",
    "\n",
    "# Print the results\n",
    "print(use_counts)"
   ]
  },
  {
   "cell_type": "code",
   "execution_count": 5,
   "metadata": {},
   "outputs": [],
   "source": [
    "# Function to count occurrences of each unique value within each category\n",
    "def count_occurrences_within_categories(csv_file_path, category_column, value_column):\n",
    "    # Read the CSV file into a DataFrame\n",
    "    df = pd.read_csv(csv_file_path)\n",
    "\n",
    "    # Group by the category column and count occurrences of each unique value in the value column\n",
    "    category_value_counts = (\n",
    "        df.groupby(category_column)[value_column].value_counts().unstack(fill_value=0)\n",
    "    )\n",
    "\n",
    "    return category_value_counts"
   ]
  },
  {
   "cell_type": "code",
   "execution_count": 6,
   "metadata": {},
   "outputs": [
    {
     "name": "stdout",
     "output_type": "stream",
     "text": [
      "category               CPU Usage Optimization  Caching Optimization  \\\n",
      "type                                                                  \n",
      "Add Method Annotation                       0                     2   \n",
      "Add Parameter                               0                     0   \n",
      "Change Attribute Type                       0                     1   \n",
      "Change Parameter Type                       0                     0   \n",
      "Change Return Type                          0                     1   \n",
      "Change Variable Type                        0                     0   \n",
      "Extract Method                              0                     0   \n",
      "Move Class                                  0                     0   \n",
      "Rename Method                               0                     0   \n",
      "Rename Variable                             1                     0   \n",
      "\n",
      "category               Concurrency and Parallelism Enhancement  \\\n",
      "type                                                             \n",
      "Add Method Annotation                                        0   \n",
      "Add Parameter                                                0   \n",
      "Change Attribute Type                                        2   \n",
      "Change Parameter Type                                        0   \n",
      "Change Return Type                                           0   \n",
      "Change Variable Type                                         1   \n",
      "Extract Method                                               0   \n",
      "Move Class                                                   1   \n",
      "Rename Method                                                0   \n",
      "Rename Variable                                              1   \n",
      "\n",
      "category               Execution Time Improvement  I/O Optimization  \\\n",
      "type                                                                  \n",
      "Add Method Annotation                           2                 0   \n",
      "Add Parameter                                   3                 0   \n",
      "Change Attribute Type                           1                 1   \n",
      "Change Parameter Type                           3                 1   \n",
      "Change Return Type                              5                 0   \n",
      "Change Variable Type                            4                 2   \n",
      "Extract Method                                  3                 0   \n",
      "Move Class                                      0                 0   \n",
      "Rename Method                                   4                 0   \n",
      "Rename Variable                                 6                 2   \n",
      "\n",
      "category               Memory Optimization  Network Performance Optimization  \\\n",
      "type                                                                           \n",
      "Add Method Annotation                    0                                 0   \n",
      "Add Parameter                            0                                 1   \n",
      "Change Attribute Type                    7                                 1   \n",
      "Change Parameter Type                    1                                 0   \n",
      "Change Return Type                       3                                 0   \n",
      "Change Variable Type                     2                                 0   \n",
      "Extract Method                           1                                 0   \n",
      "Move Class                               0                                 1   \n",
      "Rename Method                            0                                 0   \n",
      "Rename Variable                          1                                 0   \n",
      "\n",
      "category               Reliability and Stability Improvement  \\\n",
      "type                                                           \n",
      "Add Method Annotation                                      7   \n",
      "Add Parameter                                             12   \n",
      "Change Attribute Type                                      7   \n",
      "Change Parameter Type                                     14   \n",
      "Change Return Type                                        10   \n",
      "Change Variable Type                                      13   \n",
      "Extract Method                                            15   \n",
      "Move Class                                                 3   \n",
      "Rename Method                                              3   \n",
      "Rename Variable                                            7   \n",
      "\n",
      "category               Scalability Improvement  Startup Time Reduction  \\\n",
      "type                                                                     \n",
      "Add Method Annotation                        1                       1   \n",
      "Add Parameter                                1                       0   \n",
      "Change Attribute Type                        2                       0   \n",
      "Change Parameter Type                        2                       0   \n",
      "Change Return Type                           0                       0   \n",
      "Change Variable Type                         3                       0   \n",
      "Extract Method                               0                       0   \n",
      "Move Class                                   0                       0   \n",
      "Rename Method                                0                       0   \n",
      "Rename Variable                              0                       0   \n",
      "\n",
      "category               Unrelated to Performance Improvement  \n",
      "type                                                         \n",
      "Add Method Annotation                                    17  \n",
      "Add Parameter                                            13  \n",
      "Change Attribute Type                                     8  \n",
      "Change Parameter Type                                     9  \n",
      "Change Return Type                                       11  \n",
      "Change Variable Type                                      5  \n",
      "Extract Method                                           11  \n",
      "Move Class                                               25  \n",
      "Rename Method                                            23  \n",
      "Rename Variable                                          12  \n"
     ]
    }
   ],
   "source": [
    "category_column = \"type\"  # Replace with the name of the category column\n",
    "value_column = \"category\"  # Replace with the name of the value column\n",
    "\n",
    "# Get the counts of each unique value within each category and plot the results\n",
    "category_value_counts = count_occurrences_within_categories(\n",
    "    csv_file_path, \"type\", \"category\"\n",
    ")\n",
    "\n",
    "category_value_counts.to_csv(\"../../data/rq5/refactoring_type_per_reasons.csv\")\n",
    "\n",
    "# Print the results\n",
    "print(category_value_counts)"
   ]
  },
  {
   "cell_type": "code",
   "execution_count": 7,
   "metadata": {},
   "outputs": [
    {
     "name": "stdout",
     "output_type": "stream",
     "text": [
      "use                    Fix-related  Maintenance-related  Test-related\n",
      "type                                                                 \n",
      "Add Method Annotation            3                   26             1\n",
      "Add Parameter                    9                   21             0\n",
      "Change Attribute Type           17                   13             0\n",
      "Change Parameter Type           12                   17             1\n",
      "Change Return Type              19                   11             0\n",
      "Change Variable Type            17                   10             3\n",
      "Extract Method                  12                   15             3\n",
      "Move Class                       1                   24             5\n",
      "Rename Method                    2                   23             5\n",
      "Rename Variable                  1                   28             1\n"
     ]
    }
   ],
   "source": [
    "# Get the counts of each unique value within each category and plot the results\n",
    "category_value_counts = count_occurrences_within_categories(\n",
    "    csv_file_path, \"type\", \"use\"\n",
    ")\n",
    "\n",
    "category_value_counts.to_csv(\"../../data/rq5/refactoring_type_per_use.csv\")\n",
    "\n",
    "# Print the results\n",
    "print(category_value_counts)"
   ]
  }
 ],
 "metadata": {
  "kernelspec": {
   "display_name": "Python 3",
   "language": "python",
   "name": "python3"
  },
  "language_info": {
   "codemirror_mode": {
    "name": "ipython",
    "version": 3
   },
   "file_extension": ".py",
   "mimetype": "text/x-python",
   "name": "python",
   "nbconvert_exporter": "python",
   "pygments_lexer": "ipython3",
   "version": "3.11.0"
  }
 },
 "nbformat": 4,
 "nbformat_minor": 2
}
