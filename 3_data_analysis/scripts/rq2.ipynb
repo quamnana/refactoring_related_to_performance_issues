{
 "cells": [
  {
   "cell_type": "code",
   "execution_count": 99,
   "metadata": {},
   "outputs": [],
   "source": [
    "from pymongo import MongoClient\n",
    "import pandas as pd\n",
    "from scipy.stats import chi2_contingency\n",
    "import numpy as np"
   ]
  },
  {
   "cell_type": "code",
   "execution_count": 100,
   "metadata": {},
   "outputs": [],
   "source": [
    "# MongoDB connection details\n",
    "mongo_uri = \"mongodb://localhost:27017/\"\n",
    "database_name = \"final-first-research\"\n",
    "perfromance_issues_collection_name = \"performance-issues\"\n",
    "performance_refactorings_collection_name = \"performance-refactorings\"\n",
    "non_performance_refactorings_collection_name = \"non-performance-refactorings\"\n",
    "\n",
    "# Connect to MongoDB\n",
    "client = MongoClient(mongo_uri)\n",
    "db = client[database_name]\n",
    "performance_issues_collection = db[perfromance_issues_collection_name]\n",
    "performance_refactorings_collection = db[performance_refactorings_collection_name]\n",
    "non_performance_refactorings_collection = db[non_performance_refactorings_collection_name]"
   ]
  },
  {
   "cell_type": "code",
   "execution_count": 101,
   "metadata": {},
   "outputs": [
    {
     "name": "stdout",
     "output_type": "stream",
     "text": [
      "Total number of performance refactoring commit IDs: 2316\n",
      "Total number of issues related to performance refactorings: 940\n",
      "Total number of commit IDs related to performance refactorings: 5704\n",
      "Number of commit IDs with performance refactorings: 2316\n",
      "Number of commit IDs without performance refactorings: 3388\n",
      "Number of issues with empty or null commit_ids: 0\n"
     ]
    }
   ],
   "source": [
    "# Fetch performance refactorings\n",
    "performance_refactorings = list(\n",
    "    performance_refactorings_collection.find(\n",
    "        {}, {\"repo_fullname\": 1, \"commit_id\": 1, \"issue_number\": 1, \"pr_number\": 1}\n",
    "    )\n",
    ")\n",
    "\n",
    "# Extract relevant details from performance refactorings\n",
    "performance_refactorings_commit_ids = {ref[\"commit_id\"] for ref in performance_refactorings}\n",
    "\n",
    "\n",
    "# Print the total number of performance refactoring commit IDs\n",
    "print(\n",
    "    f\"Total number of performance refactoring commit IDs: {len(performance_refactorings_commit_ids)}\"\n",
    ")\n",
    "\n",
    "# Fetch issues related to performance refactorings by matching repository full names, issue numbers, and PR numbers\n",
    "query = {\n",
    "    \"commit_ids\": {\"$in\": list(performance_refactorings_commit_ids)},\n",
    "}\n",
    "issues_related_to_performance_refactorings = list(\n",
    "    performance_issues_collection.find(query)\n",
    ")\n",
    "\n",
    "# Print the total number of issues related to performance refactorings\n",
    "print(\n",
    "    f\"Total number of issues related to performance refactorings: {len(issues_related_to_performance_refactorings)}\"\n",
    ")\n",
    "\n",
    "# Extract commit IDs for each issue related to performance refactorings\n",
    "commit_ids = []\n",
    "for issue in issues_related_to_performance_refactorings:\n",
    "    issue_commit_ids = issue.get(\"commit_ids\", [])\n",
    "    commit_ids.extend(issue_commit_ids)\n",
    "\n",
    "commit_ids_set = set(commit_ids)\n",
    "\n",
    "# Print the total number of commit IDs related to performance refactorings\n",
    "print(\n",
    "    f\"Total number of commit IDs related to performance refactorings: {len(commit_ids_set)}\"\n",
    ")\n",
    "\n",
    "# Count commit IDs found and not found in performance refactorings\n",
    "in_perf_ref = len(commit_ids_set & performance_refactorings_commit_ids)\n",
    "not_in_perf_ref = len(commit_ids_set - performance_refactorings_commit_ids)\n",
    "\n",
    "print(f\"Number of commit IDs with performance refactorings: {in_perf_ref}\")\n",
    "print(f\"Number of commit IDs without performance refactorings: {not_in_perf_ref}\")\n",
    "\n",
    "# Additional debugging and validation steps\n",
    "\n",
    "# Check for issues with empty or null commit_ids\n",
    "empty_commit_ids_issues = [\n",
    "    issue\n",
    "    for issue in issues_related_to_performance_refactorings\n",
    "    if not issue.get(\"commit_ids\")\n",
    "]\n",
    "print(f\"Number of issues with empty or null commit_ids: {len(empty_commit_ids_issues)}\")\n",
    "\n"
   ]
  },
  {
   "cell_type": "code",
   "execution_count": 102,
   "metadata": {},
   "outputs": [],
   "source": [
    "# get non performance refactorings without type\n",
    "non_performance_refactorings = list(non_performance_refactorings_collection.find({}, {'type': 1}))\n",
    "df = pd.DataFrame(non_performance_refactorings)"
   ]
  },
  {
   "cell_type": "code",
   "execution_count": 103,
   "metadata": {},
   "outputs": [
    {
     "name": "stdout",
     "output_type": "stream",
     "text": [
      "Total number of non-performance refactorings: 9860235\n",
      "Number of commits with non-performance refactorings: 8273491\n",
      "Number of commits without non-performance refactorings: 1586744\n"
     ]
    }
   ],
   "source": [
    "column_name = \"type\"\n",
    "total_count = df.shape[0]\n",
    "\n",
    "commit_without_refactorings = df[df[column_name].isnull()].shape[0]\n",
    "commit_with_refactorings = df[df[column_name].notnull()].shape[0]\n",
    "\n",
    "print(\n",
    "    f\"Total number of non-performance refactorings: {total_count}\"\n",
    ")\n",
    "\n",
    "print(\n",
    "    f\"Number of commits with non-performance refactorings: {commit_with_refactorings}\"\n",
    ")\n",
    "print(\n",
    "    f\"Number of commits without non-performance refactorings: {commit_without_refactorings}\"\n",
    ")"
   ]
  },
  {
   "cell_type": "code",
   "execution_count": 110,
   "metadata": {},
   "outputs": [
    {
     "name": "stdout",
     "output_type": "stream",
     "text": [
      "                     Performance_related  Non_performance_related    Total\n",
      "Refactoring_Present                 2316                  8273491  8275807\n",
      "Refactoring_Absent                  3388                  1586744  1590132\n",
      "Total                               5704                  9860235  9865939\n"
     ]
    },
    {
     "name": "stderr",
     "output_type": "stream",
     "text": [
      "/var/folders/c7/8b2s2mnn2dndkrh3sh9_2kym0000gn/T/ipykernel_43425/4133162101.py:20: RuntimeWarning: divide by zero encountered in log10\n",
      "  -np.log10(p)\n"
     ]
    },
    {
     "data": {
      "text/plain": [
       "(7904.110258919567,\n",
       " 0.0,\n",
       " 1,\n",
       " array([[4.78466400e+03, 8.27102234e+06],\n",
       "        [9.19336003e+02, 1.58921266e+06]]),\n",
       " 0.13110317801762714,\n",
       " inf)"
      ]
     },
     "execution_count": 110,
     "metadata": {},
     "output_type": "execute_result"
    }
   ],
   "source": [
    "data = {\n",
    "    \"Performance_related\": [2316, 3388],  # [Refactoring Present, Refactoring Absent]\n",
    "    \"Non_performance_related\": [8273491, 1586744],  # [Refactoring Present, Refactoring Absent]\n",
    "}\n",
    "\n",
    "# Create a DataFrame\n",
    "df = pd.DataFrame(data, index=[\"Refactoring_Present\", \"Refactoring_Absent\"])\n",
    "df[\"Total\"] = df.sum(axis=1)\n",
    "df.loc[\"Total\"] = df.sum()\n",
    "df\n",
    "\n",
    "print(df)\n",
    "\n",
    "chi2, p, dof, expected = chi2_contingency(df.iloc[0:2, 0:2])\n",
    "\n",
    "# Calculate the odds ratio\n",
    "odds_ratio = (2316 / 3388) / (8273491 / 1586744)\n",
    "\n",
    "log_p_value = (\n",
    "    -np.log10(p) \n",
    ")  # Check for zero p-value\n",
    "\n",
    "\n",
    "chi2, p, dof, expected, odds_ratio, log_p_value"
   ]
  }
 ],
 "metadata": {
  "kernelspec": {
   "display_name": "Python 3",
   "language": "python",
   "name": "python3"
  },
  "language_info": {
   "codemirror_mode": {
    "name": "ipython",
    "version": 3
   },
   "file_extension": ".py",
   "mimetype": "text/x-python",
   "name": "python",
   "nbconvert_exporter": "python",
   "pygments_lexer": "ipython3",
   "version": "3.11.0"
  }
 },
 "nbformat": 4,
 "nbformat_minor": 2
}
