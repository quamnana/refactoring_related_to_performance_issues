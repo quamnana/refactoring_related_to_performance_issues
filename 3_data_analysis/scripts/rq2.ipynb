{
  "cells": [
    {
      "cell_type": "code",
      "execution_count": 50,
      "metadata": {},
      "outputs": [],
      "source": [
        "from pymongo import MongoClient\n",
        "import pandas as pd\n",
        "from scipy.stats import chi2_contingency\n",
        "import numpy as np"
      ]
    },
    {
      "cell_type": "code",
      "execution_count": 51,
      "metadata": {},
      "outputs": [],
      "source": [
        "# MongoDB connection details\n",
        "mongo_uri = \"mongodb://localhost:27017/\"\n",
        "database_name = \"research\"\n",
        "perfromance_issues_collection_name = \"performance-issues\"\n",
        "performance_refactorings_collection_name = \"performance-refactorings\"\n",
        "non_performance_refactorings_collection_name = \"non-performance-refactorings\"\n",
        "\n",
        "# Connect to MongoDB\n",
        "client = MongoClient(mongo_uri)\n",
        "db = client[database_name]\n",
        "performance_issues_collection = db[perfromance_issues_collection_name]\n",
        "performance_refactorings_collection = db[performance_refactorings_collection_name]\n",
        "non_performance_refactorings_collection = db[non_performance_refactorings_collection_name]"
      ]
    },
    {
      "cell_type": "code",
      "execution_count": 52,
      "metadata": {},
      "outputs": [
        {
          "name": "stdout",
          "output_type": "stream",
          "text": [
            "Total number of performance refactoring commit IDs: 2316\n",
            "Total number of issues related to performance refactorings: 940\n",
            "Total number of commit IDs related to performance refactorings: 5704\n",
            "Number of commit IDs with performance refactorings: 2316\n",
            "Number of commit IDs without performance refactorings: 3388\n",
            "Number of issues with empty or null commit_ids: 0\n"
          ]
        }
      ],
      "source": [
        "# Fetch performance refactorings\n",
        "performance_refactorings = list(\n",
        "    performance_refactorings_collection.find(\n",
        "        {}, {\"repo_fullname\": 1, \"commit_id\": 1, \"issue_number\": 1, \"pr_number\": 1}\n",
        "    )\n",
        ")\n",
        "\n",
        "# Extract relevant details from performance refactorings\n",
        "performance_refactorings_commit_ids = {ref[\"commit_id\"] for ref in performance_refactorings}\n",
        "\n",
        "\n",
        "# Print the total number of performance refactoring commit IDs\n",
        "print(\n",
        "    f\"Total number of performance refactoring commit IDs: {len(performance_refactorings_commit_ids)}\"\n",
        ")\n",
        "\n",
        "# Fetch issues related to performance refactorings by matching repository full names, issue numbers, and PR numbers\n",
        "query = {\n",
        "    \"commit_ids\": {\"$in\": list(performance_refactorings_commit_ids)},\n",
        "}\n",
        "issues_related_to_performance_refactorings = list(\n",
        "    performance_issues_collection.find(query)\n",
        ")\n",
        "\n",
        "# Print the total number of issues related to performance refactorings\n",
        "print(\n",
        "    f\"Total number of issues related to performance refactorings: {len(issues_related_to_performance_refactorings)}\"\n",
        ")\n",
        "\n",
        "# Extract commit IDs for each issue related to performance refactorings\n",
        "commit_ids = []\n",
        "for issue in issues_related_to_performance_refactorings:\n",
        "    issue_commit_ids = issue.get(\"commit_ids\", [])\n",
        "    commit_ids.extend(issue_commit_ids)\n",
        "\n",
        "commit_ids_set = set(commit_ids)\n",
        "\n",
        "# Print the total number of commit IDs related to performance refactorings\n",
        "print(\n",
        "    f\"Total number of commit IDs related to performance refactorings: {len(commit_ids_set)}\"\n",
        ")\n",
        "\n",
        "# Count commit IDs found and not found in performance refactorings\n",
        "in_perf_ref = len(commit_ids_set & performance_refactorings_commit_ids)\n",
        "not_in_perf_ref = len(commit_ids_set - performance_refactorings_commit_ids)\n",
        "\n",
        "print(f\"Number of commit IDs with performance refactorings: {in_perf_ref}\")\n",
        "print(f\"Number of commit IDs without performance refactorings: {not_in_perf_ref}\")\n",
        "\n",
        "# Additional debugging and validation steps\n",
        "\n",
        "# Check for issues with empty or null commit_ids\n",
        "empty_commit_ids_issues = [\n",
        "    issue\n",
        "    for issue in issues_related_to_performance_refactorings\n",
        "    if not issue.get(\"commit_ids\")\n",
        "]\n",
        "print(f\"Number of issues with empty or null commit_ids: {len(empty_commit_ids_issues)}\")\n",
        "\n"
      ]
    },
    {
      "cell_type": "code",
      "execution_count": 55,
      "metadata": {},
      "outputs": [
        {
          "name": "stdout",
          "output_type": "stream",
          "text": [
            "Number of commits without refactorings: 1586697\n",
            "Number of commits with refactorings: 612796\n"
          ]
        }
      ],
      "source": [
        "# Query for documents where 'type' is null\n",
        "non_performance_refactorings_without_refactorings = list(\n",
        "    non_performance_refactorings_collection.find(\n",
        "        {\"type\": None}, {\"type\": 1, \"commit_id\": 1}\n",
        "    )\n",
        ")\n",
        "\n",
        "# Query for documents where 'type' is not null\n",
        "non_performance_refactorings_with_refactorings = list(\n",
        "    non_performance_refactorings_collection.find(\n",
        "        {\"type\": {\"$ne\": None}}, {\"type\": 1, \"commit_id\": 1}\n",
        "    )\n",
        ")\n",
        "\n",
        "# Convert both results to DataFrames\n",
        "without_refactorings_df = pd.DataFrame(non_performance_refactorings_without_refactorings)\n",
        "with_refactorings_df = pd.DataFrame(non_performance_refactorings_with_refactorings)\n",
        "\n",
        "# Get the number of unique commit_ids in each group\n",
        "commit_without_refactorings = without_refactorings_df[\"commit_id\"].nunique()\n",
        "commit_with_refactorings = with_refactorings_df[\"commit_id\"].nunique()\n",
        "\n",
        "# Print the results\n",
        "print(\n",
        "    f\"Number of commits without refactorings: {commit_without_refactorings}\"\n",
        ")\n",
        "print(\n",
        "    f\"Number of commits with refactorings: {commit_with_refactorings}\"\n",
        ")"
      ]
    },
    {
      "cell_type": "code",
      "execution_count": null,
      "metadata": {},
      "outputs": [
        {
          "name": "stdout",
          "output_type": "stream",
          "text": [
            "                     Performance_related  Non_performance_related    Total\n",
            "Refactoring_Present                 2316                   612796   615112\n",
            "Refactoring_Absent                  3388                  1586697  1590085\n",
            "Total                               5704                  2199493  2205197\n"
          ]
        },
        {
          "data": {
            "text/plain": [
              "(458.63945163167995,\n",
              " 9.505413872093378e-102,\n",
              " 1,\n",
              " array([[   1591.05914256,  613520.94085744],\n",
              "        [   4112.94085744, 1585972.05914256]]),\n",
              " 1.7699998608194958,\n",
              " 101.02202896891393)"
            ]
          },
          "execution_count": 43,
          "metadata": {},
          "output_type": "execute_result"
        }
      ],
      "source": [
        "data = {\n",
        "    \"Performance_related\": [\n",
        "        in_perf_ref,\n",
        "        not_in_perf_ref,\n",
        "    ],  # [Refactoring Present, Refactoring Absent]\n",
        "    \"Non_performance_related\": [\n",
        "        commit_with_refactorings,\n",
        "        commit_without_refactorings,\n",
        "    ],  # [Refactoring Present, Refactoring Absent]\n",
        "}\n",
        "\n",
        "# Create a DataFrame\n",
        "df = pd.DataFrame(data, index=[\"Refactoring_Present\", \"Refactoring_Absent\"])\n",
        "df[\"Total\"] = df.sum(axis=1)\n",
        "df.loc[\"Total\"] = df.sum()\n",
        "df\n",
        "\n",
        "print(df)\n",
        "\n",
        "chi2, p, dof, expected = chi2_contingency(df.iloc[0:2, 0:2])\n",
        "\n",
        "# Calculate the odds ratio\n",
        "odds_ratio = (in_perf_ref / not_in_perf_ref) / (\n",
        "    commit_with_refactorings / commit_without_refactorings\n",
        ")\n",
        "\n",
        "log_p_value = (\n",
        "    -np.log10(p) \n",
        ")  # Check for zero p-value\n",
        "\n",
        "\n",
        "chi2, p, dof, expected, odds_ratio, log_p_value"
      ]
    }
  ],
  "metadata": {
    "kernelspec": {
      "display_name": "Python 3",
      "language": "python",
      "name": "python3"
    },
    "language_info": {
      "codemirror_mode": {
        "name": "ipython",
        "version": 3
      },
      "file_extension": ".py",
      "mimetype": "text/x-python",
      "name": "python",
      "nbconvert_exporter": "python",
      "pygments_lexer": "ipython3",
      "version": "3.11.0"
    }
  },
  "nbformat": 4,
  "nbformat_minor": 2
}
