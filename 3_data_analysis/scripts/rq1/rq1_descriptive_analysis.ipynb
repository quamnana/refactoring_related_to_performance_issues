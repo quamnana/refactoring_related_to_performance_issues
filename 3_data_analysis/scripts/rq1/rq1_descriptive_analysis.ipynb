{
  "cells": [
    {
      "cell_type": "code",
      "execution_count": 12,
      "metadata": {},
      "outputs": [
        {
          "name": "stdout",
          "output_type": "stream",
          "text": [
            "Requirement already satisfied: pymongo in /Users/nanaquam/.pyenv/versions/3.11.0/lib/python3.11/site-packages (4.5.0)\n",
            "Requirement already satisfied: pandas in /Users/nanaquam/.pyenv/versions/3.11.0/lib/python3.11/site-packages (1.5.2)\n",
            "Requirement already satisfied: scipy in /Users/nanaquam/.pyenv/versions/3.11.0/lib/python3.11/site-packages (1.11.3)\n",
            "Requirement already satisfied: matplotlib in /Users/nanaquam/.pyenv/versions/3.11.0/lib/python3.11/site-packages (3.7.5)\n",
            "Requirement already satisfied: seaborn in /Users/nanaquam/.pyenv/versions/3.11.0/lib/python3.11/site-packages (0.13.2)\n",
            "Requirement already satisfied: statsmodels in /Users/nanaquam/.pyenv/versions/3.11.0/lib/python3.11/site-packages (0.14.2)\n",
            "Requirement already satisfied: scikit-posthocs in /Users/nanaquam/.pyenv/versions/3.11.0/lib/python3.11/site-packages (0.9.0)\n",
            "Requirement already satisfied: dnspython<3.0.0,>=1.16.0 in /Users/nanaquam/.pyenv/versions/3.11.0/lib/python3.11/site-packages (from pymongo) (2.4.2)\n",
            "Requirement already satisfied: python-dateutil>=2.8.1 in /Users/nanaquam/.pyenv/versions/3.11.0/lib/python3.11/site-packages (from pandas) (2.8.2)\n",
            "Requirement already satisfied: pytz>=2020.1 in /Users/nanaquam/.pyenv/versions/3.11.0/lib/python3.11/site-packages (from pandas) (2022.7)\n",
            "Requirement already satisfied: numpy>=1.21.0 in /Users/nanaquam/.pyenv/versions/3.11.0/lib/python3.11/site-packages (from pandas) (1.25.2)\n",
            "Requirement already satisfied: contourpy>=1.0.1 in /Users/nanaquam/.pyenv/versions/3.11.0/lib/python3.11/site-packages (from matplotlib) (1.1.1)\n",
            "Requirement already satisfied: cycler>=0.10 in /Users/nanaquam/.pyenv/versions/3.11.0/lib/python3.11/site-packages (from matplotlib) (0.12.1)\n",
            "Requirement already satisfied: fonttools>=4.22.0 in /Users/nanaquam/.pyenv/versions/3.11.0/lib/python3.11/site-packages (from matplotlib) (4.43.1)\n",
            "Requirement already satisfied: kiwisolver>=1.0.1 in /Users/nanaquam/.pyenv/versions/3.11.0/lib/python3.11/site-packages (from matplotlib) (1.4.5)\n",
            "Requirement already satisfied: packaging>=20.0 in /Users/nanaquam/.pyenv/versions/3.11.0/lib/python3.11/site-packages (from matplotlib) (21.3)\n",
            "Requirement already satisfied: pillow>=6.2.0 in /Users/nanaquam/.pyenv/versions/3.11.0/lib/python3.11/site-packages (from matplotlib) (10.1.0)\n",
            "Requirement already satisfied: pyparsing>=2.3.1 in /Users/nanaquam/.pyenv/versions/3.11.0/lib/python3.11/site-packages (from matplotlib) (3.0.9)\n",
            "Requirement already satisfied: patsy>=0.5.6 in /Users/nanaquam/.pyenv/versions/3.11.0/lib/python3.11/site-packages (from statsmodels) (0.5.6)\n",
            "Requirement already satisfied: six in /Users/nanaquam/.pyenv/versions/3.11.0/lib/python3.11/site-packages (from patsy>=0.5.6->statsmodels) (1.16.0)\n",
            "\n",
            "\u001b[1m[\u001b[0m\u001b[34;49mnotice\u001b[0m\u001b[1;39;49m]\u001b[0m\u001b[39;49m A new release of pip is available: \u001b[0m\u001b[31;49m23.3.2\u001b[0m\u001b[39;49m -> \u001b[0m\u001b[32;49m24.2\u001b[0m\n",
            "\u001b[1m[\u001b[0m\u001b[34;49mnotice\u001b[0m\u001b[1;39;49m]\u001b[0m\u001b[39;49m To update, run: \u001b[0m\u001b[32;49mpip install --upgrade pip\u001b[0m\n",
            "Note: you may need to restart the kernel to use updated packages.\n"
          ]
        }
      ],
      "source": [
        "pip install pymongo pandas scipy matplotlib seaborn statsmodels scikit-posthocs \n"
      ]
    },
    {
      "cell_type": "code",
      "execution_count": 13,
      "metadata": {},
      "outputs": [],
      "source": [
        "from pymongo import MongoClient\n",
        "import pandas as pd\n",
        "from scipy.stats import chi2_contingency\n",
        "import numpy as np\n",
        "import matplotlib.pyplot as plt\n",
        "import seaborn as sns\n",
        "from scipy.stats import f_oneway\n",
        "from statsmodels.stats.multicomp import pairwise_tukeyhsd\n",
        "from scipy.stats import kruskal\n",
        "import scikit_posthocs as sp"
      ]
    },
    {
      "cell_type": "code",
      "execution_count": 14,
      "metadata": {},
      "outputs": [
        {
          "name": "stdout",
          "output_type": "stream",
          "text": [
            "Total number of performance refactorings: 19646\n"
          ]
        }
      ],
      "source": [
        "# MongoDB connection details\n",
        "mongo_uri = \"mongodb://localhost:27017/\"\n",
        "database_name = \"research\"\n",
        "collection_name = \"performance-refactorings\"\n",
        "\n",
        "# Connect to MongoDB\n",
        "client = MongoClient(mongo_uri)\n",
        "db = client[database_name]\n",
        "collection = db[collection_name]\n",
        "\n",
        "# Load performance refactorings data\n",
        "performance_refactorings = list(collection.find({}, {\"_id\": 0, \"repo_fullname\": 1, \"type\":1, }))\n",
        "print(f\"Total number of performance refactorings: {len(performance_refactorings)}\")\n"
      ]
    },
    {
      "cell_type": "code",
      "execution_count": 15,
      "metadata": {},
      "outputs": [],
      "source": [
        "df = pd.DataFrame(performance_refactorings)\n",
        "\n",
        "# Group by 'repo_fullname' and 'type', and count occurrences\n",
        "grouped_df = df.groupby([\"repo_fullname\", \"type\"]).size().reset_index(name=\"counts\")\n",
        "\n",
        "# Save the grouped data to a CSV file\n",
        "grouped_df.to_csv(\"../../data/rq1/grouped_refactorings.csv\", index=False)"
      ]
    },
    {
      "cell_type": "code",
      "execution_count": 18,
      "metadata": {},
      "outputs": [],
      "source": [
        "# Descriptive Statistics\n",
        "frequencies = grouped_df.groupby(\"type\")[\"counts\"].sum()\n",
        "average_frequencies = grouped_df.groupby(\"type\")[\"counts\"].mean()\n",
        "\n",
        "# Combine frequencies and average frequencies into one DataFrame\n",
        "combined_df = pd.DataFrame(\n",
        "    {\"frequency\": frequencies, \"average_frequency\": average_frequencies}\n",
        ")\n",
        "\n",
        "# Reset the index to include 'type' as a column\n",
        "combined_df.reset_index(inplace=True)\n",
        "\n",
        "# Sort the DataFrame by total_counts in descending order\n",
        "combined_df = combined_df.sort_values(by=\"average_frequency\", ascending=False)\n",
        "\n",
        "# Save to a CSV file\n",
        "combined_df.to_csv(\"../../data/rq1/descriptive_analysis.csv\", index=False)\n",
        "\n",
        "print(\"Frequencies:\\n\", frequencies)\n",
        "print(\"\\n\")\n",
        "print(\"Average Frequencies:\\n\", average_frequencies)\n",
        "\n",
        "print(\n",
        "    \"Combined Frequencies and Average Frequencies saved to 'combined_frequencies.csv'\"\n",
        ")"
      ]
    }
  ],
  "metadata": {
    "kernelspec": {
      "display_name": "Python 3",
      "language": "python",
      "name": "python3"
    },
    "language_info": {
      "codemirror_mode": {
        "name": "ipython",
        "version": 3
      },
      "file_extension": ".py",
      "mimetype": "text/x-python",
      "name": "python",
      "nbconvert_exporter": "python",
      "pygments_lexer": "ipython3",
      "version": "3.11.0"
    }
  },
  "nbformat": 4,
  "nbformat_minor": 2
}
