{
  "cells": [
    {
      "cell_type": "code",
      "execution_count": 1,
      "metadata": {},
      "outputs": [],
      "source": [
        "from pymongo import MongoClient\n",
        "import pandas as pd\n",
        "import numpy as np\n",
        "from scipy.stats import chi2_contingency"
      ]
    },
    {
      "cell_type": "code",
      "execution_count": 2,
      "metadata": {},
      "outputs": [],
      "source": [
        "# MongoDB connection details\n",
        "mongo_uri = \"mongodb://localhost:27017/\"\n",
        "database_name = \"research\"\n",
        "perfromance_issues_collection_name = \"performance-issues\"\n",
        "performance_refactorings_collection_name = \"performance-refactorings\"\n",
        "non_performance_refactorings_collection_name = \"non-performance-refactorings\"\n",
        "\n",
        "# Connect to MongoDB\n",
        "client = MongoClient(mongo_uri)\n",
        "db = client[database_name]\n",
        "performance_issues_collection = db[perfromance_issues_collection_name]\n",
        "performance_refactorings_collection = db[performance_refactorings_collection_name]\n",
        "non_performance_refactorings_collection = db[\n",
        "    non_performance_refactorings_collection_name\n",
        "]"
      ]
    },
    {
      "cell_type": "code",
      "execution_count": 3,
      "metadata": {},
      "outputs": [],
      "source": [
        "# Load performance and non-performance refactorings data\n",
        "performance_refactorings = pd.DataFrame(\n",
        "    list(performance_refactorings_collection.find({}, {\"type\": 1}))\n",
        ")\n",
        "non_performance_refactorings = pd.DataFrame(\n",
        "    list(non_performance_refactorings_collection.find({\"type\": {\"$ne\": None}}, {\"type\":1}))\n",
        ")"
      ]
    },
    {
      "cell_type": "code",
      "execution_count": 4,
      "metadata": {},
      "outputs": [
        {
          "name": "stdout",
          "output_type": "stream",
          "text": [
            "Performance Refactoring Types: Change Variable Type          1807\n",
            "Add Parameter                 1215\n",
            "Move Class                     929\n",
            "Change Parameter Type          880\n",
            "Rename Method                  875\n",
            "                              ... \n",
            "Merge Catch                      2\n",
            "Merge Class                      2\n",
            "Replace Attribute                2\n",
            "Modify Variable Annotation       1\n",
            "Parameterize Test                1\n",
            "Name: type, Length: 96, dtype: int64\n",
            "Non-Performance Refactoring Types: Change Variable Type          654350\n",
            "Add Method Annotation         496478\n",
            "Change Parameter Type         496108\n",
            "Change Return Type            400498\n",
            "Add Parameter                 382370\n",
            "                               ...  \n",
            "Replace Attribute                571\n",
            "Split Variable                   550\n",
            "Merge Method                     506\n",
            "Parameterize Test                 99\n",
            "Modify Variable Annotation        95\n",
            "Name: type, Length: 102, dtype: int64\n"
          ]
        }
      ],
      "source": [
        "# Get frequencies of refactoring  types in both performance and non-performance refactorings\n",
        "performance_refactoring_counts = performance_refactorings[\"type\"].value_counts()\n",
        "non_performance_refactoring_counts = non_performance_refactorings[\"type\"].value_counts()\n",
        "\n",
        "print(\"Performance Refactoring Types:\", performance_refactoring_counts) \n",
        "print(\"Non-Performance Refactoring Types:\", non_performance_refactoring_counts)"
      ]
    },
    {
      "cell_type": "code",
      "execution_count": 5,
      "metadata": {},
      "outputs": [
        {
          "name": "stdout",
          "output_type": "stream",
          "text": [
            "          Refactoring_Type  Performance_Freq  Non_Performance_Freq\n",
            "0     Change Variable Type              1807                654350\n",
            "1            Add Parameter              1215                382370\n",
            "2               Move Class               929                320860\n",
            "3    Change Parameter Type               880                496108\n",
            "4            Rename Method               875                366831\n",
            "..                     ...               ...                   ...\n",
            "97      Try With Resources                 0                  8375\n",
            "98            Move Package                 0                  5634\n",
            "99          Rename Package                 0                  5013\n",
            "100          Split Package                 0                  1493\n",
            "101          Merge Package                 0                  1182\n",
            "\n",
            "[102 rows x 3 columns]\n"
          ]
        }
      ],
      "source": [
        "# Convert the series to DataFrames\n",
        "performance_df = performance_refactoring_counts.reset_index()\n",
        "performance_df.columns = [\"Refactoring_Type\", \"Performance_Freq\"]\n",
        "\n",
        "non_performance_df = non_performance_refactoring_counts.reset_index()\n",
        "non_performance_df.columns = [\"Refactoring_Type\", \"Non_Performance_Freq\"]\n",
        "\n",
        "# Merge the DataFrames on 'Refactoring_Type'\n",
        "merged_df = pd.merge(\n",
        "    performance_df, non_performance_df, on=\"Refactoring_Type\", how=\"outer\"\n",
        ")\n",
        "\n",
        "# Fill NaN values with 0 and convert to integer\n",
        "merged_df.fillna(0, inplace=True)\n",
        "merged_df[\"Performance_Freq\"] = merged_df[\"Performance_Freq\"].astype(int)\n",
        "merged_df[\"Non_Performance_Freq\"] = merged_df[\"Non_Performance_Freq\"].astype(int)\n",
        "\n",
        "# Display the resulting DataFrame\n",
        "print(merged_df)"
      ]
    },
    {
      "cell_type": "code",
      "execution_count": 6,
      "metadata": {},
      "outputs": [],
      "source": [
        "# # Step 2: Perform Chi-square Goodness-of-Fit Test\n",
        "# # We'll compare the observed frequencies for each refactoring type between performance and non-performance refactorings.\n",
        "\n",
        "# # Initialize an empty list to store chi-square test results\n",
        "# chi2_results = []\n",
        "# cramers_v_results = []\n",
        "\n",
        "# for i, row in merged_df.iterrows():\n",
        "#     # Create the contingency table\n",
        "#     contingency_table = [\n",
        "#         [row[\"Performance_Freq\"], row[\"Non_Performance_Freq\"]],\n",
        "#         [\n",
        "#             merged_df[\"Performance_Freq\"].sum() - row[\"Performance_Freq\"],\n",
        "#             merged_df[\"Non_Performance_Freq\"].sum() - row[\"Non_Performance_Freq\"],\n",
        "#         ],\n",
        "#     ]\n",
        "\n",
        "#     # Perform the chi-square test\n",
        "#     chi2, p, _, _ = chi2_contingency(contingency_table)\n",
        "#     chi2_results.append((row[\"Refactoring_Type\"], chi2, p))\n",
        "\n",
        "#     # Calculate Cramér's V\n",
        "#     n = np.sum(contingency_table)  # Total number of observations\n",
        "#     min_dim = min(\n",
        "#         len(contingency_table) - 1, len(contingency_table[0]) - 1\n",
        "#     )  # min(k-1, r-1)\n",
        "#     cramers_v = np.sqrt(chi2 / (n * min_dim))\n",
        "#     cramers_v_results.append((row[\"Refactoring_Type\"], cramers_v))\n",
        "\n",
        "# # Convert the results to DataFrames\n",
        "# chi2_df = pd.DataFrame(chi2_results, columns=[\"Refactoring_Type\", \"Chi2\", \"p-value\"])\n",
        "# chi2_df[\"p-value\"] = chi2_df[\"p-value\"].apply(\n",
        "#     lambda x: \"<0.001\" if x < 0.001 else f\"{x:.3f}\"\n",
        "# )\n",
        "\n",
        "\n",
        "# cramers_v_df = pd.DataFrame(\n",
        "#     cramers_v_results, columns=[\"Refactoring_Type\", \"Cramers_V\"]\n",
        "# )\n",
        "# cramers_v_df[\"Cramers_V\"] = cramers_v_df[\"Cramers_V\"].apply(\n",
        "#     lambda x: \"<0.001\" if x < 0.001 else f\"{x:.3f}\"\n",
        "# )\n",
        "\n",
        "# # Merge the Chi-Square and Cramér's V results\n",
        "# results_df = pd.merge(chi2_df, cramers_v_df, on=\"Refactoring_Type\")\n",
        "\n",
        "\n",
        "# # Display the resulting DataFrame\n",
        "# print(results_df)"
      ]
    },
    {
      "cell_type": "code",
      "execution_count": 7,
      "metadata": {},
      "outputs": [
        {
          "name": "stdout",
          "output_type": "stream",
          "text": [
            "          Refactoring_Type        Chi2 p-value Odds_Ratio\n",
            "0     Change Variable Type   44.504755  <0.001      1.179\n",
            "1            Add Parameter  108.162448  <0.001      1.360\n",
            "2               Move Class   37.787433  <0.001      1.230\n",
            "3    Change Parameter Type   79.800730  <0.001      0.735\n",
            "4            Rename Method    0.014117   0.905      1.005\n",
            "..                     ...         ...     ...        ...\n",
            "97      Try With Resources   18.916400  <0.001      0.000\n",
            "98            Move Package   12.403166  <0.001      0.000\n",
            "99          Rename Package   10.929063  <0.001      0.000\n",
            "100          Split Package    2.614185   0.106      0.000\n",
            "101          Merge Package    1.894134   0.169      0.000\n",
            "\n",
            "[102 rows x 4 columns]\n"
          ]
        }
      ],
      "source": [
        "# Step 2: Perform Chi-square Goodness-of-Fit Test and calculate Odds Ratios\n",
        "# We'll compare the observed frequencies for each refactoring type between performance and non-performance refactorings.\n",
        "# Initialize empty lists to store chi-square test results and odds ratios\n",
        "chi2_results = []\n",
        "odds_ratio_results = []\n",
        "\n",
        "for i, row in merged_df.iterrows():\n",
        "    # Create the contingency table\n",
        "    contingency_table = [\n",
        "        [row[\"Performance_Freq\"], row[\"Non_Performance_Freq\"]],\n",
        "        [\n",
        "            merged_df[\"Performance_Freq\"].sum() - row[\"Performance_Freq\"],\n",
        "            merged_df[\"Non_Performance_Freq\"].sum() - row[\"Non_Performance_Freq\"],\n",
        "        ],\n",
        "    ]\n",
        "\n",
        "    # Perform the chi-square test\n",
        "    chi2, p, _, _ = chi2_contingency(contingency_table)\n",
        "    chi2_results.append((row[\"Refactoring_Type\"], chi2, p))\n",
        "\n",
        "    # Calculate Odds Ratio\n",
        "    odds_ratio = (contingency_table[0][0] * contingency_table[1][1]) / (\n",
        "        contingency_table[0][1] * contingency_table[1][0]\n",
        "    )\n",
        "    odds_ratio_results.append((row[\"Refactoring_Type\"], odds_ratio))\n",
        "\n",
        "# Convert the results to DataFrames\n",
        "chi2_df = pd.DataFrame(chi2_results, columns=[\"Refactoring_Type\", \"Chi2\", \"p-value\"])\n",
        "chi2_df[\"p-value\"] = chi2_df[\"p-value\"].apply(\n",
        "    lambda x: \"<0.001\" if x < 0.001 else f\"{x:.3f}\"\n",
        ")\n",
        "\n",
        "odds_ratio_df = pd.DataFrame(\n",
        "    odds_ratio_results, columns=[\"Refactoring_Type\", \"Odds_Ratio\"]\n",
        ")\n",
        "odds_ratio_df[\"Odds_Ratio\"] = odds_ratio_df[\"Odds_Ratio\"].apply(lambda x: f\"{x:.3f}\")\n",
        "\n",
        "# Merge the Chi-Square and Odds Ratio results\n",
        "results_df = pd.merge(chi2_df, odds_ratio_df, on=\"Refactoring_Type\")\n",
        "\n",
        "# Display the resulting DataFrame\n",
        "print(results_df)"
      ]
    },
    {
      "cell_type": "code",
      "execution_count": 8,
      "metadata": {},
      "outputs": [
        {
          "data": {
            "text/html": [
              "<div>\n",
              "<style scoped>\n",
              "    .dataframe tbody tr th:only-of-type {\n",
              "        vertical-align: middle;\n",
              "    }\n",
              "\n",
              "    .dataframe tbody tr th {\n",
              "        vertical-align: top;\n",
              "    }\n",
              "\n",
              "    .dataframe thead th {\n",
              "        text-align: right;\n",
              "    }\n",
              "</style>\n",
              "<table border=\"1\" class=\"dataframe\">\n",
              "  <thead>\n",
              "    <tr style=\"text-align: right;\">\n",
              "      <th></th>\n",
              "      <th>Refactoring_Type</th>\n",
              "      <th>Performance_Freq</th>\n",
              "      <th>Non_Performance_Freq</th>\n",
              "      <th>Performance_Percentage</th>\n",
              "      <th>Non_Performance_Percentage</th>\n",
              "    </tr>\n",
              "  </thead>\n",
              "  <tbody>\n",
              "    <tr>\n",
              "      <th>0</th>\n",
              "      <td>Change Variable Type</td>\n",
              "      <td>1807</td>\n",
              "      <td>654350</td>\n",
              "      <td>9.197801</td>\n",
              "      <td>7.908995</td>\n",
              "    </tr>\n",
              "    <tr>\n",
              "      <th>1</th>\n",
              "      <td>Add Parameter</td>\n",
              "      <td>1215</td>\n",
              "      <td>382370</td>\n",
              "      <td>6.184465</td>\n",
              "      <td>4.621628</td>\n",
              "    </tr>\n",
              "    <tr>\n",
              "      <th>2</th>\n",
              "      <td>Move Class</td>\n",
              "      <td>929</td>\n",
              "      <td>320860</td>\n",
              "      <td>4.728698</td>\n",
              "      <td>3.878169</td>\n",
              "    </tr>\n",
              "    <tr>\n",
              "      <th>3</th>\n",
              "      <td>Change Parameter Type</td>\n",
              "      <td>880</td>\n",
              "      <td>496108</td>\n",
              "      <td>4.479283</td>\n",
              "      <td>5.996356</td>\n",
              "    </tr>\n",
              "    <tr>\n",
              "      <th>4</th>\n",
              "      <td>Rename Method</td>\n",
              "      <td>875</td>\n",
              "      <td>366831</td>\n",
              "      <td>4.453833</td>\n",
              "      <td>4.433812</td>\n",
              "    </tr>\n",
              "  </tbody>\n",
              "</table>\n",
              "</div>"
            ],
            "text/plain": [
              "        Refactoring_Type  Performance_Freq  Non_Performance_Freq  \\\n",
              "0   Change Variable Type              1807                654350   \n",
              "1          Add Parameter              1215                382370   \n",
              "2             Move Class               929                320860   \n",
              "3  Change Parameter Type               880                496108   \n",
              "4          Rename Method               875                366831   \n",
              "\n",
              "   Performance_Percentage  Non_Performance_Percentage  \n",
              "0                9.197801                    7.908995  \n",
              "1                6.184465                    4.621628  \n",
              "2                4.728698                    3.878169  \n",
              "3                4.479283                    5.996356  \n",
              "4                4.453833                    4.433812  "
            ]
          },
          "execution_count": 8,
          "metadata": {},
          "output_type": "execute_result"
        }
      ],
      "source": [
        "# Step 3: Calculate Average Percentages\n",
        "merged_df[\"Performance_Percentage\"] = (\n",
        "    merged_df[\"Performance_Freq\"] / merged_df[\"Performance_Freq\"].sum() * 100\n",
        ")\n",
        "merged_df[\"Non_Performance_Percentage\"] = (\n",
        "    merged_df[\"Non_Performance_Freq\"] / merged_df[\"Non_Performance_Freq\"].sum() * 100\n",
        ")\n",
        "\n",
        "merged_df.head()"
      ]
    },
    {
      "cell_type": "code",
      "execution_count": 11,
      "metadata": {},
      "outputs": [
        {
          "data": {
            "text/plain": [
              "(-0.9293309905622881, 192.6078431372549, 81112.6568627451, 87073.44298358918)"
            ]
          },
          "execution_count": 11,
          "metadata": {},
          "output_type": "execute_result"
        }
      ],
      "source": [
        "# Step 4: Calculate Cohen's d\n",
        "mean_performance = merged_df[\"Performance_Freq\"].mean()\n",
        "mean_non_performance = merged_df[\"Non_Performance_Freq\"].mean()\n",
        "pooled_std = np.sqrt(\n",
        "    ((merged_df[\"Performance_Freq\"].std() ** 2) + (merged_df[\"Non_Performance_Freq\"].std() ** 2))\n",
        "    / 2\n",
        ")\n",
        "cohen_d = (mean_performance - mean_non_performance) / pooled_std\n",
        "\n",
        "cohen_d, mean_performance, mean_non_performance, pooled_std"
      ]
    },
    {
      "cell_type": "code",
      "execution_count": 12,
      "metadata": {},
      "outputs": [
        {
          "name": "stdout",
          "output_type": "stream",
          "text": [
            "        Refactoring_Type  Performance_Freq  Non_Performance_Freq  \\\n",
            "0   Change Variable Type              1807                654350   \n",
            "1          Add Parameter              1215                382370   \n",
            "2             Move Class               929                320860   \n",
            "3  Change Parameter Type               880                496108   \n",
            "4          Rename Method               875                366831   \n",
            "\n",
            "   Performance_Percentage  Non_Performance_Percentage        Chi2 p-value  \\\n",
            "0                9.197801                    7.908995   44.504755  <0.001   \n",
            "1                6.184465                    4.621628  108.162448  <0.001   \n",
            "2                4.728698                    3.878169   37.787433  <0.001   \n",
            "3                4.479283                    5.996356   79.800730  <0.001   \n",
            "4                4.453833                    4.433812    0.014117   0.905   \n",
            "\n",
            "  Odds_Ratio  \n",
            "0      1.179  \n",
            "1      1.360  \n",
            "2      1.230  \n",
            "3      0.735  \n",
            "4      1.005  \n"
          ]
        }
      ],
      "source": [
        "# Merge merged_df, chi2_df, and odds_ratio_df on 'Refactoring_Type'\n",
        "merged_chi2_df = pd.merge(merged_df, chi2_df, on=\"Refactoring_Type\")\n",
        "merged_results_df = pd.merge(merged_chi2_df, odds_ratio_df, on=\"Refactoring_Type\")\n",
        "\n",
        "# Save the results to a CSV file\n",
        "merged_results_df.to_csv(\"../data/rq3_statistical_analysis_results.csv\", index=False)\n",
        "\n",
        "# Display the first few rows of the merged results\n",
        "print(merged_results_df.head())"
      ]
    },
    {
      "cell_type": "code",
      "execution_count": 13,
      "metadata": {},
      "outputs": [],
      "source": [
        "# # merge merged_df and chi2_df on 'Refactoring_Type'\n",
        "# merged_chi2_df = pd.merge(merged_df, chi2_df, on=\"Refactoring_Type\")\n",
        "# merged_results_df = pd.merge(merged_chi2_df, cramers_v_df, on=\"Refactoring_Type\")\n",
        "# merged_results_df.to_csv(\"../data/rq3_statistical_analysis_results.csv\")\n",
        "\n",
        "# merged_results_df.head()"
      ]
    }
  ],
  "metadata": {
    "kernelspec": {
      "display_name": "Python 3",
      "language": "python",
      "name": "python3"
    },
    "language_info": {
      "codemirror_mode": {
        "name": "ipython",
        "version": 3
      },
      "file_extension": ".py",
      "mimetype": "text/x-python",
      "name": "python",
      "nbconvert_exporter": "python",
      "pygments_lexer": "ipython3",
      "version": "3.11.0"
    }
  },
  "nbformat": 4,
  "nbformat_minor": 2
}
