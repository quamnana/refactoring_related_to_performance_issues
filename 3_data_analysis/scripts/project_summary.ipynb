{
 "cells": [
  {
   "cell_type": "code",
   "execution_count": 1,
   "metadata": {},
   "outputs": [],
   "source": [
    "from pymongo import MongoClient\n",
    "import pandas as pd"
   ]
  },
  {
   "cell_type": "code",
   "execution_count": 2,
   "metadata": {},
   "outputs": [],
   "source": [
    "# MongoDB connection details\n",
    "mongo_uri = \"mongodb://localhost:27017/\"\n",
    "database_name = \"final-first-research\"\n",
    "initial_projects_collection_name = \"initial-projects\"\n",
    "issues_related_projects_collection_name = \"issues-related-projects\"\n",
    "performance_refactorings_collection_name = \"performance-refactorings\"\n",
    "\n",
    "\n",
    "# Connect to MongoDB\n",
    "client = MongoClient(mongo_uri)\n",
    "db = client[database_name]\n",
    "initial_projects_collection = db[initial_projects_collection_name]\n",
    "issues_related_projects_collection = db[issues_related_projects_collection_name]\n",
    "peformance_refactorings_collection = db[performance_refactorings_collection_name]\n",
    "\n",
    "\n",
    "# Get projects from database\n",
    "initial_projects = list(initial_projects_collection.find())\n",
    "issues_related_projects = list(issues_related_projects_collection.find())\n",
    "performance_refactorings = list(peformance_refactorings_collection.find({}))\n",
    "\n"
   ]
  },
  {
   "cell_type": "code",
   "execution_count": 3,
   "metadata": {},
   "outputs": [],
   "source": [
    "# Create dataframes\n",
    "initial_projects_df = pd.DataFrame(initial_projects)\n",
    "issues_related_projects_df = pd.DataFrame(issues_related_projects)\n",
    "performance_refactorings_df = pd.DataFrame(performance_refactorings)\n"
   ]
  },
  {
   "cell_type": "code",
   "execution_count": 4,
   "metadata": {},
   "outputs": [],
   "source": [
    "# Stars\n",
    "stars_stats = initial_projects_df[\"stargazers_count\"].describe().rename(\"Stars\")\n",
    "\n",
    "# Closed issues\n",
    "closed_issues_stats = (\n",
    "    initial_projects_df[\"closed_issues_count\"].describe().rename(\"Closed Issues\")\n",
    ")\n",
    "\n",
    "# Open issues\n",
    "open_issues_stats = (\n",
    "    initial_projects_df[\"open_issues_count\"].describe().rename(\"Open Issues\")\n",
    ")\n",
    "\n",
    "# Sizes\n",
    "sizes_stats = initial_projects_df[\"size\"].describe().rename(\"Sizes\")"
   ]
  },
  {
   "cell_type": "code",
   "execution_count": 8,
   "metadata": {},
   "outputs": [],
   "source": [
    "# Combine all statistics into a single DataFrame\n",
    "combined_stats_df = pd.DataFrame(\n",
    "    {\n",
    "        \"Stars\": stars_stats,\n",
    "        \"Closed Issues\": closed_issues_stats,\n",
    "        \"Open Issues\": open_issues_stats,\n",
    "        \"Sizes\": sizes_stats,\n",
    "    }\n",
    ")\n",
    "\n",
    "# Format sizes stats to five decimal places\n",
    "combined_stats_df[\"Sizes\"] = combined_stats_df[\"Sizes\"].apply(lambda x: f\"{x:.5f}\")\n",
    "\n",
    "\n",
    "# Save to CSV\n",
    "combined_stats_df.to_csv(\"../data/project_statistics.csv\", index=True)"
   ]
  },
  {
   "cell_type": "code",
   "execution_count": 9,
   "metadata": {},
   "outputs": [
    {
     "name": "stdout",
     "output_type": "stream",
     "text": [
      "Total number of projects: 31614\n",
      "Total number of issues-related projects: 1684\n",
      "Total number of refactorings-related projects: 255\n"
     ]
    }
   ],
   "source": [
    "initial_projects_count = len(initial_projects_df)\n",
    "issues_related_projects_count = len(issues_related_projects_df)\n",
    "refactorings_related_projects_count = len(\n",
    "    performance_refactorings_df[\"repo_fullname\"].unique()\n",
    ")\n",
    "\n",
    "print(f\"Total number of projects: {initial_projects_count}\")\n",
    "print(f\"Total number of issues-related projects: {issues_related_projects_count}\")\n",
    "print(f\"Total number of refactorings-related projects: {refactorings_related_projects_count}\")"
   ]
  }
 ],
 "metadata": {
  "kernelspec": {
   "display_name": "Python 3",
   "language": "python",
   "name": "python3"
  },
  "language_info": {
   "codemirror_mode": {
    "name": "ipython",
    "version": 3
   },
   "file_extension": ".py",
   "mimetype": "text/x-python",
   "name": "python",
   "nbconvert_exporter": "python",
   "pygments_lexer": "ipython3",
   "version": "3.11.0"
  }
 },
 "nbformat": 4,
 "nbformat_minor": 2
}
