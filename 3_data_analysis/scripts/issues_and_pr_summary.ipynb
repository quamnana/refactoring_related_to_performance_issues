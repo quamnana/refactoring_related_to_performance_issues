{
  "cells": [
    {
      "cell_type": "code",
      "execution_count": 11,
      "metadata": {},
      "outputs": [],
      "source": [
        "from pymongo import MongoClient\n",
        "import pandas as pd"
      ]
    },
    {
      "cell_type": "code",
      "execution_count": 12,
      "metadata": {},
      "outputs": [],
      "source": [
        "# MongoDB connection details\n",
        "mongo_uri = \"mongodb://localhost:27017/\"\n",
        "database_name = \"research\"\n",
        "collection_name = \"performance-issues\"\n",
        "\n",
        "# Connect to MongoDB\n",
        "client = MongoClient(mongo_uri)\n",
        "db = client[database_name]\n",
        "collection = db[collection_name]\n",
        "\n"
      ]
    },
    {
      "cell_type": "code",
      "execution_count": 14,
      "metadata": {},
      "outputs": [
        {
          "name": "stdout",
          "output_type": "stream",
          "text": [
            "Total number of performance-related issues: 25462\n",
            "Number of performance-related issues with pull requests: 22527\n",
            "Number of performance-related issues without pull requests: 2935\n"
          ]
        },
        {
          "name": "stderr",
          "output_type": "stream",
          "text": [
            "/var/folders/c7/8b2s2mnn2dndkrh3sh9_2kym0000gn/T/ipykernel_99120/745213492.py:5: FutureWarning: Inferring datetime64[ns, UTC] from data containing strings is deprecated and will be removed in a future version. To retain the old behavior explicitly pass Series(data, dtype=datetime64[ns, UTC])\n",
            "  df = pd.DataFrame(performance_issues)\n"
          ]
        }
      ],
      "source": [
        "# Get peformance-related issues from the database\n",
        "performance_issues = list(collection.find())\n",
        "\n",
        "# Convert the data to a pandas DataFrame\n",
        "df = pd.DataFrame(performance_issues)\n",
        "\n",
        "column_name = \"pr_number\"\n",
        "performance_issues_count = len(df)  # Check for total number of performance-related issues\n",
        "performance_issues_with_prs_count = df[column_name].notnull().sum() # Check for number of performance-related issues with pull requests\n",
        "performance_issues_without_prs_count = df[column_name].isnull().sum() # Check for number of performance-related issues without pull requests\n",
        "\n",
        "\n",
        "print(f\"Total number of unique performance-related issues: {performance_issues_count}\")\n",
        "print(f\"Number of performance-related issues with pull requests: {performance_issues_with_prs_count}\")\n",
        "print(\n",
        "    f\"Number of performance-related issues without pull requests: {performance_issues_without_prs_count}\"\n",
        ")"
      ]
    },
    {
      "cell_type": "code",
      "execution_count": null,
      "metadata": {},
      "outputs": [],
      "source": []
    }
  ],
  "metadata": {
    "kernelspec": {
      "display_name": "Python 3",
      "language": "python",
      "name": "python3"
    },
    "language_info": {
      "codemirror_mode": {
        "name": "ipython",
        "version": 3
      },
      "file_extension": ".py",
      "mimetype": "text/x-python",
      "name": "python",
      "nbconvert_exporter": "python",
      "pygments_lexer": "ipython3",
      "version": "3.11.0"
    }
  },
  "nbformat": 4,
  "nbformat_minor": 2
}
