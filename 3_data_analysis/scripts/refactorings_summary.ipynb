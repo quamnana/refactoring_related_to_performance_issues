{
  "cells": [
    {
      "cell_type": "code",
      "execution_count": 1,
      "metadata": {},
      "outputs": [],
      "source": [
        "from pymongo import MongoClient\n",
        "import pandas as pd"
      ]
    },
    {
      "cell_type": "code",
      "execution_count": 2,
      "metadata": {},
      "outputs": [],
      "source": [
        "# MongoDB connection details\n",
        "mongo_uri = \"mongodb://localhost:27017/\"\n",
        "database_name = \"research\"\n",
        "projects_refactorings_collection_name = \"projects-refactorings\"\n",
        "initial_performance_refactorings_collection_name = \"initial-performance-refactorings\"\n",
        "performance_refactorings_collection_name = \"performance-refactorings\"\n",
        "initial_non_performance_refactorings_collection_name = \"initial-non-performance-refactorings\"\n",
        "non_performance_refactorings_collection_name = \"non-performance-refactorings\"\n",
        "\n",
        "\n",
        "# Connect to MongoDB\n",
        "client = MongoClient(mongo_uri)\n",
        "db = client[database_name]\n",
        "projects_refactorings_collection = db[projects_refactorings_collection_name]\n",
        "initial_peformance_refactorings_collection = db[initial_performance_refactorings_collection_name]\n",
        "peformance_refactorings_collection = db[performance_refactorings_collection_name]\n",
        "initial_non_peformance_refactorings_collection = db[initial_non_performance_refactorings_collection_name]\n",
        "non_peformance_refactorings_collection = db[non_performance_refactorings_collection_name]"
      ]
    },
    {
      "cell_type": "code",
      "execution_count": 3,
      "metadata": {},
      "outputs": [],
      "source": [
        "# Fetching the initial performance refactorings data from MongoDB\n",
        "initial_performance_refactorings = list(\n",
        "    initial_peformance_refactorings_collection.find({})\n",
        ")\n",
        "initial_performance_refactorings_df = pd.DataFrame(initial_performance_refactorings)\n",
        "initial_performance_refactorings_count = len(initial_performance_refactorings_df)\n",
        "\n",
        "\n",
        "# Fetching the performance refactorings data from MongoDB\n",
        "performance_refactorings = list(peformance_refactorings_collection.find({}))\n",
        "performance_refactorings_df = pd.DataFrame(performance_refactorings)\n",
        "performance_refactorings_count = len(performance_refactorings_df)\n",
        "\n",
        "# print(f\"Total number of projects refactorings: {projects_refactorings_count}\")\n",
        "print(f\"Total number of performance refactorings collected from performance issues: {initial_performance_refactorings_count}\")\n",
        "print(f\"Total number of performance refactorings: {performance_refactorings_count}\")\n"
      ]
    },
    {
      "cell_type": "code",
      "execution_count": null,
      "metadata": {},
      "outputs": [],
      "source": [
        "# Fetching the initial non-performance refactorings data from MongoDB\n",
        "initial_non_performance_refactorings = list(\n",
        "    initial_non_peformance_refactorings_collection.find({})\n",
        ")\n",
        "initial_non_performance_refactorings_df = pd.DataFrame(\n",
        "    initial_non_performance_refactorings\n",
        ")\n",
        "initial_non_performance_refactorings_count = len(\n",
        "    initial_non_performance_refactorings_df\n",
        ")\n",
        "\n",
        "\n",
        "# Fetching the non-performance refactorings data from MongoDB\n",
        "non_performance_refactorings = list(non_peformance_refactorings_collection.find({}))\n",
        "non_performance_refactorings_df = pd.DataFrame(non_performance_refactorings)\n",
        "non_performance_refactorings_count = len(non_performance_refactorings_df)\n",
        "\n",
        "print(\n",
        "    f\"Total number of non-performance refactorings: {initial_non_performance_refactorings_count}\"\n",
        ")\n",
        "print(\n",
        "    f\"Total number of non-performance refactorings: {non_performance_refactorings_count}\"\n",
        ")"
      ]
    },
    {
      "cell_type": "code",
      "execution_count": null,
      "metadata": {},
      "outputs": [],
      "source": [
        "# Calculating unique counts for projects related to issues and refactorings\n",
        "issues_related_projects_count = len(\n",
        "    initial_performance_refactorings_df[\"repo_fullname\"].unique()\n",
        ")\n",
        "refactorings_related_projects_count = len(\n",
        "    performance_refactorings_df[\"repo_fullname\"].unique()\n",
        ")\n",
        "\n",
        "# Combining all the results into a single DataFrame\n",
        "summary_data = {\n",
        "    \"Description\": [\n",
        "        \"Total number of performance refactorings collected from performance issues\",\n",
        "        \"Total number of performance refactorings\",\n",
        "        \"Total number of issues-related projects\",\n",
        "        \"Total number of refactorings-related projects\",\n",
        "        \"Total number of initial non-performance refactorings\",\n",
        "        \"Total number of non-performance refactorings\",\n",
        "    ],\n",
        "    \"Count\": [\n",
        "        initial_performance_refactorings_count,\n",
        "        performance_refactorings_count,\n",
        "        issues_related_projects_count,\n",
        "        refactorings_related_projects_count,\n",
        "        initial_non_performance_refactorings_count,\n",
        "        non_performance_refactorings_count,\n",
        "    ],\n",
        "}\n",
        "\n",
        "summary_df = pd.DataFrame(summary_data)\n",
        "\n",
        "# Save the summary data to a CSV file\n",
        "summary_df.to_csv(\"data/refactorings_summary.csv\", index=False)\n",
        "\n"
      ]
    }
  ],
  "metadata": {
    "kernelspec": {
      "display_name": "Python 3",
      "language": "python",
      "name": "python3"
    },
    "language_info": {
      "codemirror_mode": {
        "name": "ipython",
        "version": 3
      },
      "file_extension": ".py",
      "mimetype": "text/x-python",
      "name": "python",
      "nbconvert_exporter": "python",
      "pygments_lexer": "ipython3",
      "version": "3.11.0"
    }
  },
  "nbformat": 4,
  "nbformat_minor": 2
}
